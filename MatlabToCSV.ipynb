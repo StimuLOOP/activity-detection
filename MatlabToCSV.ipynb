{
 "cells": [
  {
   "cell_type": "code",
   "execution_count": 2,
   "id": "aebef033",
   "metadata": {},
   "outputs": [
    {
     "ename": "ModuleNotFoundError",
     "evalue": "No module named 'utils.helper'",
     "output_type": "error",
     "traceback": [
      "\u001b[0;31m---------------------------------------------------------------------------\u001b[0m",
      "\u001b[0;31mModuleNotFoundError\u001b[0m                       Traceback (most recent call last)",
      "\u001b[0;32m<ipython-input-2-050cb3ecfeb6>\u001b[0m in \u001b[0;36m<module>\u001b[0;34m\u001b[0m\n\u001b[1;32m     13\u001b[0m \u001b[0;32mfrom\u001b[0m \u001b[0mscipy\u001b[0m \u001b[0;32mimport\u001b[0m \u001b[0msignal\u001b[0m\u001b[0;34m\u001b[0m\u001b[0;34m\u001b[0m\u001b[0m\n\u001b[1;32m     14\u001b[0m \u001b[0;32mfrom\u001b[0m \u001b[0mskimage\u001b[0m\u001b[0;34m.\u001b[0m\u001b[0mrestoration\u001b[0m \u001b[0;32mimport\u001b[0m \u001b[0mdenoise_wavelet\u001b[0m\u001b[0;34m\u001b[0m\u001b[0;34m\u001b[0m\u001b[0m\n\u001b[0;32m---> 15\u001b[0;31m \u001b[0;32mfrom\u001b[0m \u001b[0mutils\u001b[0m\u001b[0;34m.\u001b[0m\u001b[0mhelper\u001b[0m \u001b[0;32mimport\u001b[0m \u001b[0;34m*\u001b[0m\u001b[0;34m\u001b[0m\u001b[0;34m\u001b[0m\u001b[0m\n\u001b[0m\u001b[1;32m     16\u001b[0m \u001b[0;32mimport\u001b[0m \u001b[0msklearn_relief\u001b[0m \u001b[0;32mas\u001b[0m \u001b[0mrelief\u001b[0m\u001b[0;34m\u001b[0m\u001b[0;34m\u001b[0m\u001b[0m\n",
      "\u001b[0;31mModuleNotFoundError\u001b[0m: No module named 'utils.helper'"
     ]
    }
   ],
   "source": [
    "%load_ext autoreload\n",
    "%autoreload 2\n",
    "import h5py\n",
    "import numpy as np\n",
    "import os\n",
    "import csv\n",
    "import pandas as pd\n",
    "from scipy.stats import skew, kurtosis\n",
    "from sklearn.preprocessing import StandardScaler\n",
    "import pywt\n",
    "from sklearn.preprocessing import normalize\n",
    "from scipy.special import entr\n",
    "from scipy import signal\n",
    "from skimage.restoration import denoise_wavelet\n",
    "from utils.helper import *\n",
    "import sklearn_relief as relief"
   ]
  },
  {
   "cell_type": "code",
   "execution_count": null,
   "id": "e84bcd07",
   "metadata": {},
   "outputs": [],
   "source": [
    "def standardize_position_name(pos):\n",
    "    pos = pos.lower()\n",
    "    if len(pos.split()) > 1:\n",
    "        pos = pos.split()\n",
    "        if 'right' in pos[1]:\n",
    "            pos[1] = 'r'\n",
    "        elif 'left' in pos[1]:\n",
    "            pos[1] = 'l'\n",
    "        else:\n",
    "            raise ValueError(f\"Unknown name format of position {' '.join(pos)}\")\n",
    "        pos = '_'.join(pos)\n",
    "    return pos"
   ]
  },
  {
   "cell_type": "code",
   "execution_count": null,
   "id": "b2988b3b",
   "metadata": {},
   "outputs": [],
   "source": [
    "def get_position_id(data, pos):\n",
    "    \"\"\"\n",
    "    Extract position ID from mat data\n",
    "    \"\"\"\n",
    "    position_ids = {}\n",
    "    for i in range(5):\n",
    "        ref = data['jumpExp']['sensors']['header'][i][0]\n",
    "        loc = ''.join([chr(c[0]) for c in data[ref]['position']])\n",
    "        loc = standardize_position_name(loc)\n",
    "        position_ids[loc] = i\n",
    "    if pos not in position_ids:\n",
    "        raise ValueError(f'{pos} not available for current patient, try one of {list(position_ids)}')\n",
    "    return position_ids[pos]"
   ]
  },
  {
   "cell_type": "code",
   "execution_count": 3,
   "id": "3c793904",
   "metadata": {},
   "outputs": [],
   "source": [
    "def get_measurement_from_sensor(data, measurement, placement_id):\n",
    "    \"\"\"\n",
    "    Extract specific measurement from mat data\n",
    "    \"\"\"\n",
    "    if measurement not in data['jumpExp']['sensors']:\n",
    "        raise ValueError(f'{measurement} not available for current patient, try one of {list(data[\"jumpExp\"][\"sensors\"].keys())}')\n",
    "    ref = data['jumpExp']['sensors'][measurement][placement_id][0]\n",
    "    meas = np.array(data[ref])\n",
    "    if measurement in ['press', 'temp']:\n",
    "        meas = meas.T\n",
    "    return meas"
   ]
  },
  {
   "cell_type": "code",
   "execution_count": 4,
   "id": "016d4bd3",
   "metadata": {},
   "outputs": [],
   "source": [
    "positions = ['wrist_r', 'wrist_l', 'ankle_r', 'ankle_l', 'chest']\n",
    "measurements = ['acc','gyro', 'press']\n",
    "data_root='/datasets/GaitDetection/'"
   ]
  },
  {
   "cell_type": "code",
   "execution_count": 44,
   "id": "e5180819",
   "metadata": {},
   "outputs": [],
   "source": [
    "mat_files = [x for x in os.listdir(os.path.join(data_root,'data')) if x[-4:] == '.mat']\n",
    "for file in mat_files:\n",
    "    data_fn = os.path.join(data_root, 'data', file)\n",
    "    matlab_data = h5py.File(data_fn)\n",
    "    csv_data = {}\n",
    "    for pos in positions:\n",
    "        p_id = get_position_id(matlab_data, pos)\n",
    "        for meas in measurements:\n",
    "            curr_data = get_measurement_from_sensor(matlab_data, meas, p_id)\n",
    "            if curr_data.shape[0]==3:\n",
    "                csv_data[f'{pos}__{meas}_x'] = curr_data[0].squeeze()\n",
    "                csv_data[f'{pos}__{meas}_y'] = curr_data[1].squeeze()\n",
    "                csv_data[f'{pos}__{meas}_z'] = curr_data[2].squeeze()\n",
    "            elif curr_data.shape[0]==1:\n",
    "                csv_data[f'{pos}__{meas}'] = curr_data.squeeze()\n",
    "            else:\n",
    "                raise ValueError()\n",
    "    df = pd.DataFrame.from_dict(csv_data)\n",
    "    file_loc = os.path.join(data_root, 'csv_data', f'{file[:-4]}.csv')\n",
    "    df.to_csv(file_loc)"
   ]
  },
  {
   "cell_type": "markdown",
   "id": "6b3b44cd",
   "metadata": {},
   "source": [
    "# Generate example csv"
   ]
  },
  {
   "cell_type": "code",
   "execution_count": 6,
   "id": "9b4bc718",
   "metadata": {},
   "outputs": [],
   "source": [
    "csv_data = {}\n",
    "for pos in positions:\n",
    "    for meas in measurements:\n",
    "        if meas == 'press':\n",
    "            curr_data = np.random.randn(1,5000)\n",
    "        else: \n",
    "            curr_data = np.random.randn(3,5000)\n",
    "        if curr_data.shape[0]==3:\n",
    "            csv_data[f'{pos}__{meas}_x'] = curr_data[0].squeeze()\n",
    "            csv_data[f'{pos}__{meas}_y'] = curr_data[1].squeeze()\n",
    "            csv_data[f'{pos}__{meas}_z'] = curr_data[2].squeeze()\n",
    "        elif curr_data.shape[0]==1:\n",
    "            csv_data[f'{pos}__{meas}'] = curr_data.squeeze()\n",
    "        else:\n",
    "            raise ValueError()\n",
    "df = pd.DataFrame.from_dict(csv_data)\n",
    "df.to_csv('example/data.csv')"
   ]
  },
  {
   "cell_type": "code",
   "execution_count": null,
   "id": "f59ef652",
   "metadata": {},
   "outputs": [],
   "source": []
  }
 ],
 "metadata": {
  "kernelspec": {
   "display_name": "Python 3",
   "language": "python",
   "name": "python3"
  },
  "language_info": {
   "codemirror_mode": {
    "name": "ipython",
    "version": 3
   },
   "file_extension": ".py",
   "mimetype": "text/x-python",
   "name": "python",
   "nbconvert_exporter": "python",
   "pygments_lexer": "ipython3",
   "version": "3.9.7"
  }
 },
 "nbformat": 4,
 "nbformat_minor": 5
}
